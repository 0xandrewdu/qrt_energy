{
 "cells": [
  {
   "cell_type": "markdown",
   "id": "10f06b44",
   "metadata": {},
   "source": [
    "#### Auxiliary notebook, for filling in the NaN weather values"
   ]
  },
  {
   "cell_type": "markdown",
   "id": "61763e84",
   "metadata": {},
   "source": [
    "# QRT ENS Data Challenge 2023 (Filling NaN Weather)\n",
    "## Data Specs (Copied from Official)\n",
    "- `X_train` and `X_test` both have $35$ columns that represent the same explanatory variables but over different time periods. \n",
    "\n",
    "- `X_train` and `Y_train` share the same column `ID` - each row corresponds to a unique ID associated wwith a day and a country. \n",
    "\n",
    "- The target of this challenge `TARGET` in `Y_train` corresponds to the price change for daily futures contracts of 24H electricity baseload. \n",
    "\n",
    "- **You will notice some columns have missing values**.\n",
    "\n",
    "Input data sets comprise 35 columns:\n",
    "\n",
    "ID: Unique row identifier, associated with a day (DAY_ID) and a country (COUNTRY),\n",
    "\n",
    "DAY_ID: Day identifier - dates have been anonymized, but all data corresponding to a specific day is consistent,\n",
    "\n",
    "COUNTRY: Country identifier - DE = Germany, FR = France,\n",
    "and then contains daily commodity price variations,\n",
    "\n",
    "GAS_RET: European gas,\n",
    "\n",
    "COAL_RET: European coal,\n",
    "\n",
    "CARBON_RET: Carbon emissions futures,\n",
    "\n",
    "#### Weather measures (daily, in the country x)\n",
    "\n",
    "x_TEMP: Temperature,\n",
    "\n",
    "x_RAIN: Rainfall,\n",
    "\n",
    "x_WIND: Wind,\n",
    "\n",
    "\n",
    "#### Energy production measures (daily, in the country x)\n",
    "\n",
    "x_GAS: Natural gas,\n",
    "\n",
    "x_COAL: Hard coal,\n",
    "\n",
    "x_HYDRO: Hydro reservoir,\n",
    "\n",
    "x_NUCLEAR: Daily nuclear production,\n",
    "\n",
    "x_SOLAR: Photovoltaic,\n",
    "\n",
    "x_WINDPOW: Wind power,\n",
    "\n",
    "x_LIGNITE: Lignite,\n",
    "\n",
    "#### Electricity use metrics (daily, in the country x)\n",
    "\n",
    "x_CONSUMPTON: Total electricity consumption,\n",
    "\n",
    "x_RESIDUAL_LOAD: Electricity consumption after using all renewable energies,\n",
    "\n",
    "x_NET_IMPORT: Imported electricity from Europe,\n",
    "\n",
    "x_NET_EXPORT: Exported electricity to Europe,\n",
    "\n",
    "DE_FR_EXCHANGE: Total daily electricity exchange between Germany and France,\n",
    "\n",
    "FR_DE_EXCHANGE: Total daily electricity exchange between France and Germany.\n",
    "\n",
    "Output data sets are composed of two columns:\n",
    "\n",
    "ID: Unique row identifier - corresponding to the input identifiers,\n",
    "\n",
    "TARGET: Daily price variation for futures of 24H electricity baseload."
   ]
  },
  {
   "cell_type": "code",
   "execution_count": null,
   "id": "e925e46f",
   "metadata": {},
   "outputs": [],
   "source": [
    "def warn(*args, **kwargs):\n",
    "    pass\n",
    "import warnings\n",
    "warnings.warn = warn\n",
    "\n",
    "import matplotlib.pyplot as plt\n",
    "import numpy as np\n",
    "import pandas as pd\n",
    "import seaborn as sns\n",
    "import itertools as it\n",
    "from scipy.stats import spearmanr\n",
    "from sklearn.linear_model import LinearRegression\n",
    "from sklearn.feature_selection import mutual_info_regression as mir\n",
    "from sklearn.model_selection import train_test_split\n",
    "from sklearn.tree import DecisionTreeRegressor\n",
    "from sklearn.preprocessing import PolynomialFeatures\n",
    "from sklearn.preprocessing import OneHotEncoder as onehot\n",
    "from sklearn import linear_model\n",
    "from sklearn.cluster import KMeans\n",
    "from sklearn.neural_network import MLPRegressor\n",
    "from sklearn.decomposition import PCA\n",
    "from sklearn.model_selection import KFold\n",
    "from statsmodels.tsa.deterministic import DeterministicProcess\n",
    "import xgboost as xgb\n",
    "import lightgbm as lgb\n",
    "from itertools import product\n",
    "from scipy import signal\n",
    "from utils import *"
   ]
  },
  {
   "cell_type": "code",
   "execution_count": null,
   "id": "89799d82",
   "metadata": {},
   "outputs": [],
   "source": [
    "df = pd.read_csv('x_train.csv').set_index('ID').sort_index()\n",
    "y = pd.read_csv('y_train.csv').set_index('ID').sort_index()\n",
    "true_test = pd.read_csv('x_test.csv').set_index('ID')\n",
    "pd.set_option('display.max_columns', None)\n",
    "de = df[df['COUNTRY'] == 'DE']\n",
    "y_de = y[y.index.isin(de.index)]\n",
    "fr = df[df['COUNTRY'] == 'FR']\n",
    "y_fr = y[y.index.isin(fr.index)]\n",
    "\n",
    "bx_train, bx_test, by_train, by_test = train_test_split(df, y, test_size=0.33, random_state=88)\n",
    "df_numeric = df.drop(['DAY_ID', 'COUNTRY', 'FR_DE_EXCHANGE', 'FR_NET_EXPORT', 'DE_NET_EXPORT'], axis=1)\n",
    "df_numeric = df_numeric.fillna(df_numeric.median(numeric_only=True))\n",
    "\n",
    "weather_vars = ['DE_RAIN', 'DE_WIND', 'DE_TEMP', 'FR_RAIN', 'FR_WIND', 'FR_TEMP']"
   ]
  },
  {
   "cell_type": "code",
   "execution_count": null,
   "id": "f2ee08df",
   "metadata": {},
   "outputs": [],
   "source": [
    "ls = de.index\n",
    "for i in range(ls.size - 1):\n",
    "    if ls[i + 1] - ls[i] > 2:\n",
    "        print(f'{i}, {ls[i]}, {ls[i + 1]}')"
   ]
  },
  {
   "cell_type": "raw",
   "id": "ec05c30f",
   "metadata": {},
   "source": [
    "df_wind = de['DE_WIND'].copy()\n",
    "left_mean = df_wind[df_wind.index < 450].mean()\n",
    "left_std = df_wind[df_wind.index < 450].std()\n",
    "df_wind[df_wind.index > 450] = (df_wind[df_wind.index > 450] - df_wind[df_wind.index > 450].mean()) / df_wind[df_wind.index > 450].std()\n",
    "df_wind[df_wind.index > 450] = (df_wind[df_wind.index > 450] * left_std) + left_mean  \n",
    "sns.scatterplot(x=df_wind.index, y=df_wind)"
   ]
  },
  {
   "cell_type": "raw",
   "id": "7585ed24",
   "metadata": {
    "scrolled": true
   },
   "source": [
    "wind_norm = de[['DE_WIND', 'DE_WINDPOW']].copy()\n",
    "wind_norm['DE_WIND_NORM'] = df_wind\n",
    "wind_norm['LESS_450'] = 1\n",
    "wind_norm.loc[wind_norm.index > 450, 'LESS_450'] = 0\n",
    "sns.pairplot(data=wind_norm, x_vars=['DE_WIND', 'DE_WIND_NORM'], y_vars='DE_WINDPOW', hue='LESS_450')"
   ]
  },
  {
   "cell_type": "code",
   "execution_count": null,
   "id": "a785c059",
   "metadata": {},
   "outputs": [],
   "source": [
    "sns.scatterplot(x=df.index, y=df['FR_TEMP'])"
   ]
  },
  {
   "cell_type": "code",
   "execution_count": null,
   "id": "122b1122",
   "metadata": {},
   "outputs": [],
   "source": [
    "sns.scatterplot(x=de.index, y=de['DE_WIND'])"
   ]
  },
  {
   "cell_type": "code",
   "execution_count": null,
   "id": "62a12869",
   "metadata": {},
   "outputs": [],
   "source": [
    "sns.scatterplot(x=true_test[true_test['COUNTRY'] == 'DE'].index, y=true_test[true_test['COUNTRY'] == 'DE']['DE_WIND'])"
   ]
  },
  {
   "cell_type": "code",
   "execution_count": null,
   "id": "b23ec69f",
   "metadata": {
    "scrolled": false
   },
   "outputs": [],
   "source": [
    "temp_de = de.copy()\n",
    "temp_de['TARGET'] = y_de['TARGET']\n",
    "for w in ['RAIN', 'WIND', 'TEMP']:\n",
    "    plt.figure()\n",
    "    sns.scatterplot(x=temp_de.index, y=temp_de[f'DE_{w}'])"
   ]
  },
  {
   "cell_type": "code",
   "execution_count": null,
   "id": "c429ed37",
   "metadata": {},
   "outputs": [],
   "source": [
    "temp_de['DE_RAIN'].loc[439]"
   ]
  },
  {
   "cell_type": "code",
   "execution_count": null,
   "id": "f18ede19",
   "metadata": {},
   "outputs": [],
   "source": [
    "df_rain = de['DE_RAIN'].copy()\n",
    "dp = DeterministicProcess(\n",
    "    constant=True,\n",
    "    period=52,\n",
    "    index=df_rain.index,\n",
    "    order=1,\n",
    "    fourier=2,\n",
    ")\n",
    "x_fit = dp.in_sample().loc[:439]\n",
    "y_fit = df_rain.loc[:439]\n",
    "x_test = dp.in_sample().loc[509:]\n",
    "y_test = df_rain.loc[509:]\n",
    "ridge = linear_model.Ridge(alpha=3)\n",
    "ridge.fit(x_fit, y_fit)\n",
    "y_deseasoned = y_fit - ridge.predict(x_fit)\n",
    "# plt.clf()\n",
    "# fig, ax = plt.subplots(2)\n",
    "# ax[0].set_ylabel('DE_RAIN'), ax[1].set_ylabel('DE_RAIN')\n",
    "# sns.lineplot(x=x_fit.index, y=y_deseasoned, ax=ax[0])\n",
    "# sns.lineplot(x=x_fit.index, y=y_fit, ax=ax[1])"
   ]
  },
  {
   "cell_type": "code",
   "execution_count": null,
   "id": "21a18d80",
   "metadata": {},
   "outputs": [],
   "source": [
    "x_fit = dp.in_sample().loc[:439]\n",
    "y_fit = df_rain.loc[:439]\n",
    "x_test = dp.in_sample().loc[509:]\n",
    "y_test = df_rain.loc[509:]\n",
    "x_fit['LAG_1'] = y_fit.shift(1).fillna(y_fit.mean())\n",
    "x_test['LAG_1'] = y_test.shift(1).fillna(y_test.mean())\n",
    "de_rain_fit = de.loc[:439].drop(['DAY_ID', 'COUNTRY', 'DE_RAIN'], axis=1)\n",
    "de_rain_test = de.loc[509:].drop(['DAY_ID', 'COUNTRY', 'DE_RAIN'], axis=1)\n",
    "x_fit = pd.concat([de_rain_fit, x_fit], axis=1)\n",
    "x_test = pd.concat([de_rain_test, x_test], axis=1)\n",
    "ridge = linear_model.Ridge(alpha=1)\n",
    "ridge.fit(x_fit, y_fit)\n",
    "print(metric_train(ridge.predict(x_test), y_test))\n",
    "sns.lineplot(x=y_fit.index, y=y_fit)"
   ]
  },
  {
   "cell_type": "code",
   "execution_count": null,
   "id": "af15b9eb",
   "metadata": {
    "scrolled": false
   },
   "outputs": [],
   "source": [
    "ridge = linear_model.Ridge(alpha=1)\n",
    "xgb_model = xgb.XGBRegressor(objective=\"reg:squarederror\", random_state=88, gamma=1)\n",
    "test_model(ridge, x_fit, x_test, y_fit, y_test, model_1=xgb_model, detailed=True, graph_residuals=True)"
   ]
  },
  {
   "cell_type": "code",
   "execution_count": null,
   "id": "00bde597",
   "metadata": {},
   "outputs": [],
   "source": [
    "de"
   ]
  },
  {
   "cell_type": "code",
   "execution_count": null,
   "id": "4eb7cf65",
   "metadata": {},
   "outputs": [],
   "source": [
    "cols = pd.DataFrame(de.drop(['COUNTRY'], axis=1).columns)\n",
    "for w in ['RAIN', 'WIND', 'TEMP']:\n",
    "    cols[f'MI_FR_{w}'] = mir(X=de.drop(['COUNTRY'], axis=1).dropna(), y=de[f'FR_{w}'].dropna())\n",
    "cols"
   ]
  },
  {
   "cell_type": "code",
   "execution_count": null,
   "id": "d93c96e2",
   "metadata": {
    "scrolled": false
   },
   "outputs": [],
   "source": [
    "fs = np.linspace(0.1, 500, 1000)\n",
    "for col in weather_vars:\n",
    "    plt.figure()\n",
    "    fig, axs = plt.subplots(2)\n",
    "    \n",
    "    pgram = signal.lombscargle(x=fr[col].dropna().index, y=fr[col].dropna(), freqs=fs)\n",
    "    print([fs[i] for i in np.argwhere(pgram > 5).ravel()])\n",
    "    p_fr = sns.lineplot(x=fs, y=pgram, ax=axs[0])\n",
    "    p_fr.set(xlabel=f'{col} for FR')\n",
    "    \n",
    "    pgram = signal.lombscargle(x=de[col].dropna().index, y=de[col].dropna(), freqs=fs)\n",
    "    print([fs[i] for i in np.argwhere(pgram > 5).ravel()])\n",
    "    p_de = sns.lineplot(x=fs, y=pgram, ax=axs[1])\n",
    "    p_de.set(xlabel=f'{col} for DE')\n",
    "    \n",
    "    plt.show()"
   ]
  },
  {
   "cell_type": "code",
   "execution_count": null,
   "id": "2438fb34",
   "metadata": {},
   "outputs": [],
   "source": [
    "de.count()"
   ]
  },
  {
   "cell_type": "code",
   "execution_count": null,
   "id": "6278a5cb",
   "metadata": {
    "scrolled": true
   },
   "outputs": [],
   "source": [
    "df_weather = country_flow(fourier_features(de)).drop(['DAY_ID', 'COUNTRY'], axis=1)\n",
    "\n",
    "weather_train = df_weather[df_weather['DE_RAIN'].notna()]\n",
    "weather_test = df_weather[df_weather['DE_RAIN'].isna()]\n",
    "\n",
    "y = weather_train[['DE_WIND', 'DE_RAIN', 'DE_TEMP', 'FR_WIND', 'FR_RAIN', 'FR_TEMP']]\n",
    "weather_train = weather_train.drop(['DE_WIND', 'DE_RAIN', 'DE_TEMP', 'FR_WIND', 'FR_RAIN', 'FR_TEMP'], axis=1)\n",
    "weather_test = weather_test.drop(['DE_WIND', 'DE_RAIN', 'DE_TEMP', 'FR_WIND', 'FR_RAIN', 'FR_TEMP'], axis=1)"
   ]
  },
  {
   "cell_type": "markdown",
   "id": "07d5ad20",
   "metadata": {},
   "source": [
    "### Feature Engineering"
   ]
  },
  {
   "cell_type": "code",
   "execution_count": null,
   "id": "029a1afd",
   "metadata": {},
   "outputs": [],
   "source": [
    "y"
   ]
  },
  {
   "cell_type": "markdown",
   "id": "6ef50e2c",
   "metadata": {},
   "source": [
    "### Models"
   ]
  },
  {
   "cell_type": "code",
   "execution_count": null,
   "id": "51b72019",
   "metadata": {},
   "outputs": [],
   "source": [
    "x = lag_shift(weather_train, np.arange(3))\n",
    "target = y\n",
    "curr = 'FR_TEMP'\n",
    "# de: ridge alpha 40, xgb gamma 25"
   ]
  },
  {
   "cell_type": "code",
   "execution_count": null,
   "id": "b307745f",
   "metadata": {},
   "outputs": [],
   "source": [
    "weather_train"
   ]
  },
  {
   "cell_type": "code",
   "execution_count": null,
   "id": "e7281684",
   "metadata": {},
   "outputs": [],
   "source": [
    "# x = (x - x.mean()) / x.std()"
   ]
  },
  {
   "cell_type": "code",
   "execution_count": null,
   "id": "4deb9f6c",
   "metadata": {},
   "outputs": [],
   "source": [
    "# perform train test split after features have been calculated\n",
    "x_train, x_test, y_train, y_test = train_test_split(x, target[curr], test_size=0.33, random_state=88, shuffle=False)"
   ]
  },
  {
   "cell_type": "markdown",
   "id": "a2d6b8dd",
   "metadata": {},
   "source": [
    "#### Baseline Linear Regression"
   ]
  },
  {
   "cell_type": "code",
   "execution_count": null,
   "id": "90fd3996",
   "metadata": {
    "scrolled": true
   },
   "outputs": [],
   "source": [
    "lr = LinearRegression()\n",
    "train_result, test_result = test_model(lr, x_train, x_test, y_train, y_test)"
   ]
  },
  {
   "cell_type": "markdown",
   "id": "86fcb646",
   "metadata": {},
   "source": [
    "#### Ridge Regression"
   ]
  },
  {
   "cell_type": "code",
   "execution_count": null,
   "id": "f8cf0a90",
   "metadata": {},
   "outputs": [],
   "source": [
    "ridge = linear_model.Ridge(alpha=0.1)\n",
    "train_result, test_result = test_model(ridge, x_train, x_test, y_train, y_test, print_output=False, graph_residuals=False)"
   ]
  },
  {
   "cell_type": "raw",
   "id": "a3615487",
   "metadata": {},
   "source": [
    "coeffs = pd.DataFrame(x.columns)\n",
    "coeffs['COEF'] = ridge.coef_\n",
    "coeffs.sort_values('COEF')"
   ]
  },
  {
   "cell_type": "markdown",
   "id": "51a78168",
   "metadata": {},
   "source": [
    "#### XGB Regression"
   ]
  },
  {
   "cell_type": "code",
   "execution_count": null,
   "id": "3f0c67a4",
   "metadata": {
    "scrolled": false
   },
   "outputs": [],
   "source": [
    "xgb_model = xgb.XGBRegressor(objective=\"reg:squarederror\", random_state=88, gamma=10)\n",
    "train_result, test_result = test_model(xgb_model, x_train, x_test, y_train, y_test, print_output=False, graph_residuals=False)"
   ]
  },
  {
   "cell_type": "code",
   "execution_count": null,
   "id": "eb3edd7e",
   "metadata": {
    "scrolled": true
   },
   "outputs": [],
   "source": [
    "kf = KFold(n_splits = 5, shuffle=True)\n",
    "kf_test_model(kf, xgb_model, x, target, wind_excess=False, target_col=curr)"
   ]
  },
  {
   "cell_type": "markdown",
   "id": "2ffed11a",
   "metadata": {},
   "source": [
    "#### Ridge Regression - XGB Hybrid"
   ]
  },
  {
   "cell_type": "code",
   "execution_count": null,
   "id": "4fee7834",
   "metadata": {},
   "outputs": [],
   "source": [
    "ridge = linear_model.Ridge(alpha=0.1)\n",
    "xgb_model = xgb.XGBRegressor(objective=\"reg:squarederror\", random_state=88, gamma=6.8)\n",
    "train_result, test_result = test_model(ridge, x_train, x_test, y_train, y_test, model_1=xgb_model, detailed=True, print_output=False, graph_residuals=True)"
   ]
  },
  {
   "cell_type": "markdown",
   "id": "f34ccb6d",
   "metadata": {},
   "source": [
    "### Output"
   ]
  },
  {
   "cell_type": "code",
   "execution_count": null,
   "id": "c89b4485",
   "metadata": {},
   "outputs": [],
   "source": [
    "weather_forecast = de[de['DE_WIND'].isna()][weather_vars]"
   ]
  },
  {
   "cell_type": "markdown",
   "id": "a7bcafa2",
   "metadata": {},
   "source": [
    "#### DE_WIND"
   ]
  },
  {
   "cell_type": "code",
   "execution_count": null,
   "id": "1bea13c4",
   "metadata": {},
   "outputs": [],
   "source": [
    "xgb_model = xgb.XGBRegressor(objective=\"reg:squarederror\", random_state=88, gamma=3)\n",
    "xgb_model.fit(weather_train, y['DE_WIND'])\n",
    "weather_forecast['DE_WIND'] = xgb_model.predict(weather_test)"
   ]
  },
  {
   "cell_type": "markdown",
   "id": "f4db8bbb",
   "metadata": {},
   "source": [
    "#### FR_WIND"
   ]
  },
  {
   "cell_type": "code",
   "execution_count": null,
   "id": "429e0dc8",
   "metadata": {},
   "outputs": [],
   "source": [
    "xgb_model = xgb.XGBRegressor(objective=\"reg:squarederror\", random_state=88, gamma=0.5)\n",
    "xgb_model.fit(weather_train, y['FR_WIND'])\n",
    "weather_forecast['FR_WIND'] = xgb_model.predict(weather_test)"
   ]
  },
  {
   "cell_type": "code",
   "execution_count": null,
   "id": "27ad7595",
   "metadata": {
    "scrolled": false
   },
   "outputs": [],
   "source": [
    "weather_forecast"
   ]
  },
  {
   "cell_type": "code",
   "execution_count": null,
   "id": "081c69e8",
   "metadata": {},
   "outputs": [],
   "source": [
    "de_wind = de[de['DE_WIND'].notna()]['DE_WIND'].append(weather_forecast['DE_WIND']).sort_index()\n",
    "sns.scatterplot(x=de_wind.index, y=de_wind)"
   ]
  },
  {
   "cell_type": "code",
   "execution_count": null,
   "id": "396038b0",
   "metadata": {},
   "outputs": [],
   "source": [
    "fr_wind = de[de['FR_WIND'].notna()]['FR_WIND'].append(weather_forecast['FR_WIND']).sort_index()\n",
    "sns.scatterplot(x=fr_wind.index, y=fr_wind)"
   ]
  }
 ],
 "metadata": {
  "kernelspec": {
   "display_name": "Python 3 (ipykernel)",
   "language": "python",
   "name": "python3"
  },
  "language_info": {
   "codemirror_mode": {
    "name": "ipython",
    "version": 3
   },
   "file_extension": ".py",
   "mimetype": "text/x-python",
   "name": "python",
   "nbconvert_exporter": "python",
   "pygments_lexer": "ipython3",
   "version": "3.9.13"
  }
 },
 "nbformat": 4,
 "nbformat_minor": 5
}
