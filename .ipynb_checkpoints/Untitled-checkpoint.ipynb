{
 "cells": [
  {
   "cell_type": "code",
   "execution_count": 13,
   "id": "edf517d8",
   "metadata": {},
   "outputs": [
    {
     "name": "stdout",
     "output_type": "stream",
     "text": [
      "[1.0, 2.0]\n"
     ]
    }
   ],
   "source": [
    "import numpy as np\n",
    "\n",
    "n = 12\n",
    "\n",
    "arr = []\n",
    "for i in np.arange(1 + np.log10(n) // 1):\n",
    "    arr.append((n // (10 ** i)) % 10)\n",
    "\n",
    "# comment out for reverse, remove comment for sort\n",
    "# arr.sort()\n",
    "    \n",
    "print(arr)"
   ]
  }
 ],
 "metadata": {
  "kernelspec": {
   "display_name": "Python 3 (ipykernel)",
   "language": "python",
   "name": "python3"
  },
  "language_info": {
   "codemirror_mode": {
    "name": "ipython",
    "version": 3
   },
   "file_extension": ".py",
   "mimetype": "text/x-python",
   "name": "python",
   "nbconvert_exporter": "python",
   "pygments_lexer": "ipython3",
   "version": "3.9.13"
  }
 },
 "nbformat": 4,
 "nbformat_minor": 5
}
