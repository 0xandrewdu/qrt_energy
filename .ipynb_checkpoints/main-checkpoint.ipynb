{
 "cells": [
  {
   "cell_type": "markdown",
   "id": "61763e84",
   "metadata": {},
   "source": [
    "# QRT ENS Data Challenge 2023\n",
    "## Data Specs (Copied from Official)\n",
    "- `X_train` and `X_test` both have $35$ columns that represent the same explanatory variables but over different time periods. \n",
    "\n",
    "- `X_train` and `Y_train` share the same column `ID` - each row corresponds to a unique ID associated wwith a day and a country. \n",
    "\n",
    "- The target of this challenge `TARGET` in `Y_train` corresponds to the price change for daily futures contracts of 24H electricity baseload. \n",
    "\n",
    "- **You will notice some columns have missing values**.\n",
    "\n",
    "Input data sets comprise 35 columns:\n",
    "\n",
    "ID: Unique row identifier, associated with a day (DAY_ID) and a country (COUNTRY),\n",
    "\n",
    "DAY_ID: Day identifier - dates have been anonymized, but all data corresponding to a specific day is consistent,\n",
    "\n",
    "COUNTRY: Country identifier - DE = Germany, FR = France,\n",
    "and then contains daily commodity price variations,\n",
    "\n",
    "GAS_RET: European gas,\n",
    "\n",
    "COAL_RET: European coal,\n",
    "\n",
    "CARBON_RET: Carbon emissions futures,\n",
    "\n",
    "#### Weather measures (daily, in the country x)\n",
    "\n",
    "x_TEMP: Temperature,\n",
    "\n",
    "x_RAIN: Rainfall,\n",
    "\n",
    "x_WIND: Wind,\n",
    "\n",
    "\n",
    "#### Energy production measures (daily, in the country x)\n",
    "\n",
    "x_GAS: Natural gas,\n",
    "\n",
    "x_COAL: Hard coal,\n",
    "\n",
    "x_HYDRO: Hydro reservoir,\n",
    "\n",
    "x_NUCLEAR: Daily nuclear production,\n",
    "\n",
    "x_SOLAR: Photovoltaic,\n",
    "\n",
    "x_WINDPOW: Wind power,\n",
    "\n",
    "x_LIGNITE: Lignite,\n",
    "\n",
    "#### Electricity use metrics (daily, in the country x)\n",
    "\n",
    "x_CONSUMPTON: Total electricity consumption,\n",
    "\n",
    "x_RESIDUAL_LOAD: Electricity consumption after using all renewable energies,\n",
    "\n",
    "x_NET_IMPORT: Imported electricity from Europe,\n",
    "\n",
    "x_NET_EXPORT: Exported electricity to Europe,\n",
    "\n",
    "DE_FR_EXCHANGE: Total daily electricity exchange between Germany and France,\n",
    "\n",
    "FR_DE_EXCHANGE: Total daily electricity exchange between France and Germany.\n",
    "\n",
    "Output data sets are composed of two columns:\n",
    "\n",
    "ID: Unique row identifier - corresponding to the input identifiers,\n",
    "\n",
    "TARGET: Daily price variation for futures of 24H electricity baseload."
   ]
  },
  {
   "cell_type": "code",
   "execution_count": 1,
   "id": "e925e46f",
   "metadata": {},
   "outputs": [],
   "source": [
    "def warn(*args, **kwargs):\n",
    "    pass\n",
    "import warnings\n",
    "warnings.warn = warn\n",
    "\n",
    "import matplotlib.pyplot as plt\n",
    "import numpy as np\n",
    "import pandas as pd\n",
    "import seaborn as sns\n",
    "import itertools as it\n",
    "from scipy.stats import spearmanr\n",
    "from sklearn.linear_model import LinearRegression\n",
    "from sklearn.feature_selection import mutual_info_regression as mir\n",
    "from sklearn.model_selection import train_test_split\n",
    "from sklearn.tree import DecisionTreeRegressor\n",
    "from sklearn.preprocessing import PolynomialFeatures\n",
    "from sklearn.preprocessing import OneHotEncoder as onehot\n",
    "from sklearn import linear_model\n",
    "from sklearn.cluster import KMeans\n",
    "from sklearn.neural_network import MLPRegressor\n",
    "from sklearn.decomposition import PCA\n",
    "from sklearn.model_selection import KFold\n",
    "from statsmodels.tsa.deterministic import DeterministicProcess\n",
    "from sklearn.metrics import mean_absolute_percentage_error as mape\n",
    "from statsmodels.tsa.stattools import pacf\n",
    "import xgboost as xgb\n",
    "import lightgbm as lgb\n",
    "from itertools import product\n",
    "from scipy import signal\n",
    "from scipy import stats\n",
    "from statsmodels.tsa.deterministic import Fourier\n",
    "from sklearn.model_selection import TimeSeriesSplit\n",
    "from utils import *\n",
    "\n",
    "pd.set_option('display.max_columns', None)\n",
    "pd.set_option('display.max_rows', None)"
   ]
  },
  {
   "cell_type": "code",
   "execution_count": 2,
   "id": "89799d82",
   "metadata": {},
   "outputs": [],
   "source": [
    "df = pd.read_csv('x_train.csv').set_index('ID').sort_index()\n",
    "y = pd.read_csv('y_train.csv').set_index('ID').sort_index()\n",
    "true_test = pd.read_csv('x_test.csv').set_index('ID')\n",
    "\n",
    "de = df[df['COUNTRY'] == 'DE']\n",
    "y_de = y[y.index.isin(de.index)]\n",
    "\n",
    "fr = df[df['COUNTRY'] == 'FR']\n",
    "y_fr = y[y.index.isin(fr.index)]\n",
    "\n",
    "full = df.append(true_test).sort_index()\n",
    "full_de = full[full['COUNTRY'] == 'DE'].drop(['DAY_ID', 'COUNTRY'], axis=1)\n",
    "full_fr = full[full['COUNTRY'] == 'FR'].drop(['DAY_ID', 'COUNTRY'], axis=1)\n",
    "\n",
    "# fix wind\n",
    "fr_left_wind_mean, fr_left_wind_std = full_fr.loc[:1656, ['FR_WIND', 'DE_WIND']].mean(), full_fr.loc[:1656, ['FR_WIND', 'DE_WIND']].std()\n",
    "fr_right_wind_mean, fr_right_wind_std = full_fr.loc[1724:, ['FR_WIND', 'DE_WIND']].mean(), full_fr.loc[1724:, ['FR_WIND', 'DE_WIND']].std()\n",
    "full_fr.loc[1724:, ['FR_WIND', 'DE_WIND']] = (((full_fr.loc[1724:, ['FR_WIND', 'DE_WIND']] - fr_right_wind_mean) / fr_right_wind_std) * fr_left_wind_std) + fr_left_wind_mean\n",
    "\n",
    "de_wind_gap = pd.read_csv('de_wind_reconstructed_gap.csv').set_index('ID').sort_index()\n",
    "fr_wind_gap = pd.read_csv('fr_wind_reconstructed_gap.csv').set_index('ID').sort_index()\n",
    "full_fr.loc[fr_wind_gap.index, 'FR_WIND'] = fr_wind_gap['0']\n",
    "full_fr.loc[de_wind_gap.index, 'DE_WIND'] = de_wind_gap['0']\n",
    "\n",
    "de_import_gap = full_fr[full_fr['DE_NET_IMPORT'].isna()].index\n",
    "fr_import_gap = full_fr[full_fr['FR_NET_IMPORT'].isna()].index\n",
    "exchange_gap = full_fr[full_fr['DE_FR_EXCHANGE'].isna()].index\n",
    "\n",
    "full_de_norm = full_de.copy()\n",
    "full_de_norm = (full_de_norm - full_de_norm.mean()) / full_de_norm.std()\n",
    "\n",
    "full_fr_norm = full_fr.copy()\n",
    "full_fr_norm = (full_fr_norm - full_fr_norm.mean()) / full_fr_norm.std()"
   ]
  },
  {
   "cell_type": "code",
   "execution_count": 3,
   "id": "b23ec69f",
   "metadata": {
    "scrolled": false
   },
   "outputs": [],
   "source": [
    "temp_de = de.copy()\n",
    "temp_de['TARGET'] = y_de['TARGET']\n",
    "for w in ['RAIN', 'WIND', 'TEMP']:\n",
    "    plt.figure()\n",
    "    sns.scatterplot(x=temp_de.index, y=temp_de[f'DE_{w}'])"
   ]
  },
  {
   "cell_type": "code",
   "execution_count": 4,
   "id": "8454d645",
   "metadata": {
    "scrolled": true
   },
   "outputs": [],
   "source": [
    "temp_fr = fr.copy()\n",
    "temp_fr['TARGET'] = y_fr['TARGET']\n",
    "for col in temp_fr.drop(['DAY_ID', 'COUNTRY'], axis=1).columns:\n",
    "    for i in range(1, 2):\n",
    "        plt.figure()\n",
    "        temp = temp_fr[col].copy().sort_index()\n",
    "        temp_shifted = temp.shift(i)\n",
    "        idx = temp.index.intersection(temp.index + i)\n",
    "        p = sns.scatterplot(x=temp_shifted[idx], y=temp[idx])\n",
    "        p.set(xlabel=f\"{col}_SHIFT_{i}\")\n",
    "        plt.show()"
   ]
  },
  {
   "cell_type": "code",
   "execution_count": 5,
   "id": "731dce5d",
   "metadata": {
    "scrolled": true
   },
   "outputs": [],
   "source": [
    "fourier_features(fuel_cost(enum_country(make_wind_sqcb(country_flow((basic_clean(df)))))))"
   ]
  },
  {
   "cell_type": "markdown",
   "id": "828fccba",
   "metadata": {},
   "source": [
    "### Benchmarking\n",
    "Running linear regression on the same train test split for a basic performance benchmark. For now we just replace NaN values with 0."
   ]
  },
  {
   "cell_type": "code",
   "execution_count": 6,
   "id": "4dc7e8bb",
   "metadata": {},
   "outputs": [],
   "source": [
    "br_lr = LinearRegression()\n",
    "\n",
    "br_x_train_clean, br_x_test_clean = bx_train.fillna(0).drop(['DAY_ID', 'COUNTRY'], axis=1), bx_test.fillna(0).drop(['DAY_ID', 'COUNTRY'], axis=1)\n",
    "y_train_clean, y_test_clean = by_train['TARGET'], by_test['TARGET']\n",
    "\n",
    "test_model(br_lr, br_x_train_clean, br_x_test_clean, y_train_clean, y_test_clean)"
   ]
  },
  {
   "cell_type": "markdown",
   "id": "07d5ad20",
   "metadata": {},
   "source": [
    "### Feature Engineering"
   ]
  },
  {
   "cell_type": "code",
   "execution_count": null,
   "id": "6aa3bc3e",
   "metadata": {
    "scrolled": true
   },
   "outputs": [],
   "source": [
    "km = KMeans(n_clusters=2)\n",
    "km.fit(df_numeric)\n",
    "km.labels_\n",
    "df_clustered = df_numeric.copy()\n",
    "df_clustered['CLUSTER'] = km.labels_\n",
    "# sns.pairplot(data=df_clustered, vars=['DE_CONSUMPTION', 'FR_CONSUMPTION', 'DE_FR_EXCHANGE', 'DE_NET_IMPORT',\n",
    "#       'FR_NET_IMPORT', 'DE_GAS', 'FR_GAS', 'DE_COAL', 'FR_COAL', 'DE_HYDRO',\n",
    "#       'FR_HYDRO', 'DE_NUCLEAR', 'FR_NUCLEAR', 'DE_SOLAR', 'FR_SOLAR',\n",
    "#       'DE_WINDPOW', 'FR_WINDPOW', 'DE_LIGNITE', 'DE_RESIDUAL_LOAD',\n",
    "#       'FR_RESIDUAL_LOAD', 'DE_RAIN', 'FR_RAIN', 'DE_WIND', 'FR_WIND',\n",
    "#       'DE_TEMP', 'FR_TEMP', 'GAS_RET', 'COAL_RET', 'CARBON_RET'], hue='CLUSTER')"
   ]
  },
  {
   "cell_type": "code",
   "execution_count": null,
   "id": "029a1afd",
   "metadata": {},
   "outputs": [],
   "source": [
    "y"
   ]
  },
  {
   "cell_type": "markdown",
   "id": "6ef50e2c",
   "metadata": {},
   "source": [
    "### Models"
   ]
  },
  {
   "cell_type": "markdown",
   "id": "4e4c873e",
   "metadata": {},
   "source": [
    "Trying various models.\n",
    "\n",
    "TODO read through and implement stuff from here, paper notes that drivers of electricity prices are nonlinear: https://www.sciencedirect.com/science/article/pii/S0301421518307432"
   ]
  },
  {
   "cell_type": "code",
   "execution_count": null,
   "id": "9a2053dd",
   "metadata": {},
   "outputs": [],
   "source": [
    "x_fr = fuel_cost(make_wind_sqcb(country_flow((basic_clean(fr)))).drop('COUNTRY', axis=1))\n",
    "x_de = fuel_cost(make_wind_sqcb(country_flow((basic_clean(de)))).drop('COUNTRY', axis=1))"
   ]
  },
  {
   "cell_type": "code",
   "execution_count": null,
   "id": "51b72019",
   "metadata": {},
   "outputs": [],
   "source": [
    "x = fourier_features(fuel_cost(enum_country(make_wind_sqcb(country_flow((drop_clean(de))))))) \\\n",
    "#    .drop(['DE_GAS', 'FR_GAS', 'DE_COAL', 'FR_COAL', 'DE_HYDRO', 'FR_HYDRO',\n",
    " #      'DE_NUCLEAR', 'FR_NUCLEAR', 'DE_SOLAR', 'FR_SOLAR', 'GAS_RET', 'COAL_RET', 'DE_RAIN', 'FR_RAIN', 'DE_LIGNITE'], axis=1)\n",
    "target = y\n",
    "# x = x_fr\n",
    "target = y_de[y_de.index.isin(x.index)]\n",
    "# de: ridge alpha 40, xgb gamma 25"
   ]
  },
  {
   "cell_type": "code",
   "execution_count": null,
   "id": "2a8b3271",
   "metadata": {},
   "outputs": [],
   "source": [
    "x.columns"
   ]
  },
  {
   "cell_type": "code",
   "execution_count": null,
   "id": "fb423a21",
   "metadata": {},
   "outputs": [],
   "source": [
    "#########################################################################################################\n",
    "# x_train, x_test, y_train, y_test = x, df_test, y['TARGET'], None\n",
    "#########################################################################################################"
   ]
  },
  {
   "cell_type": "code",
   "execution_count": null,
   "id": "4deb9f6c",
   "metadata": {},
   "outputs": [],
   "source": [
    "# perform train test split after features have been calculated\n",
    "x_train, x_test, y_train, y_test = train_test_split(x, target['TARGET'], test_size=0.33, random_state=88, shuffle=False)"
   ]
  },
  {
   "cell_type": "code",
   "execution_count": null,
   "id": "d5b902db",
   "metadata": {},
   "outputs": [],
   "source": [
    "x_train = make_wind_excess(x, x_train.index, drop_windpow=False, use_iloc=False).loc[x_train.index]\n",
    "x_test = make_wind_excess(x, x_train.index, drop_windpow=False, use_iloc=False).loc[x_test.index]"
   ]
  },
  {
   "cell_type": "code",
   "execution_count": null,
   "id": "5c9a9ad6",
   "metadata": {
    "scrolled": true
   },
   "outputs": [],
   "source": [
    "x_train.columns"
   ]
  },
  {
   "cell_type": "markdown",
   "id": "a2d6b8dd",
   "metadata": {},
   "source": [
    "#### Baseline Linear Regression"
   ]
  },
  {
   "cell_type": "code",
   "execution_count": null,
   "id": "90fd3996",
   "metadata": {
    "scrolled": true
   },
   "outputs": [],
   "source": [
    "lr = LinearRegression()\n",
    "train_result, test_result = test_model(lr, x_train, x_test, y_train, y_test)"
   ]
  },
  {
   "cell_type": "markdown",
   "id": "86fcb646",
   "metadata": {},
   "source": [
    "#### Ridge Regression"
   ]
  },
  {
   "cell_type": "code",
   "execution_count": null,
   "id": "f8cf0a90",
   "metadata": {},
   "outputs": [],
   "source": [
    "ridge = linear_model.Ridge(alpha=40)\n",
    "train_result, test_result = test_model(ridge, x_train, x_test, y_train, y_test, print_output=False, graph_residuals=True)"
   ]
  },
  {
   "cell_type": "markdown",
   "id": "51a78168",
   "metadata": {},
   "source": [
    "#### XGB Regression"
   ]
  },
  {
   "cell_type": "code",
   "execution_count": null,
   "id": "3f0c67a4",
   "metadata": {
    "scrolled": false
   },
   "outputs": [],
   "source": [
    "xgb_model = xgb.XGBRegressor(objective=\"reg:squarederror\", random_state=88, gamma=25)\n",
    "train_result, test_result = test_model(xgb_model, x_train, x_test, y_train, y_test, print_output=False, graph_residuals=False)"
   ]
  },
  {
   "cell_type": "code",
   "execution_count": null,
   "id": "eb3edd7e",
   "metadata": {},
   "outputs": [],
   "source": [
    "kf = KFold(n_splits = 5, shuffle=True)\n",
    "kf_test_model(kf, xgb_model, x, target)"
   ]
  },
  {
   "cell_type": "markdown",
   "id": "2da6e039",
   "metadata": {},
   "source": [
    "#### Ridge Regression - XGB Hybrid"
   ]
  },
  {
   "cell_type": "code",
   "execution_count": null,
   "id": "44e26f42",
   "metadata": {},
   "outputs": [],
   "source": [
    "ridge = linear_model.Ridge(alpha=5)\n",
    "xgb_model = xgb.XGBRegressor(objective=\"reg:squarederror\", random_state=88, gamma=2)\n",
    "train_result, test_result = test_model(ridge, x_train, x_test, y_train, y_test, model_1=xgb_model, detailed=True, print_output=False, graph_residuals=True)"
   ]
  },
  {
   "cell_type": "markdown",
   "id": "e3ddaabf",
   "metadata": {},
   "source": [
    "#### MLP Regressor"
   ]
  },
  {
   "cell_type": "code",
   "execution_count": null,
   "id": "7224b336",
   "metadata": {
    "scrolled": true
   },
   "outputs": [],
   "source": [
    "mlpr = MLPRegressor(alpha=0.01, solver='lbfgs', hidden_layer_sizes=(50, 20))\n",
    "train_result, test_result = test_model(mlpr, x_train, x_test, y_train, y_test)"
   ]
  },
  {
   "cell_type": "markdown",
   "id": "2acedba9",
   "metadata": {},
   "source": [
    "#### MLP Regressor - XGB Hybrid"
   ]
  },
  {
   "cell_type": "code",
   "execution_count": null,
   "id": "1e4cc841",
   "metadata": {},
   "outputs": [],
   "source": [
    "x_train_lag = x_train.copy()\n",
    "x_test_lag = x_test.copy()"
   ]
  },
  {
   "cell_type": "code",
   "execution_count": null,
   "id": "d321827b",
   "metadata": {},
   "outputs": [],
   "source": [
    "x_train_lag"
   ]
  },
  {
   "cell_type": "code",
   "execution_count": null,
   "id": "02d5dd4e",
   "metadata": {
    "scrolled": true
   },
   "outputs": [],
   "source": [
    "mlpr = MLPRegressor(alpha=0.01, solver='lbfgs', hidden_layer_sizes=(50, 20))\n",
    "xgb_model = xgb.XGBRegressor(objective=\"reg:squarederror\", random_state=88, gamma=25)\n",
    "train_result, test_result = test_model(mlpr, x_train, x_test, y_train, y_test, model_1=xgb_model, detailed=True, print_output=False, graph_residuals=True)"
   ]
  },
  {
   "cell_type": "code",
   "execution_count": null,
   "id": "5e700751",
   "metadata": {},
   "outputs": [],
   "source": [
    "kf = KFold(n_splits = 10)\n",
    "kf_test_model(kf, mlpr, x, target, xgb_model)"
   ]
  },
  {
   "cell_type": "markdown",
   "id": "d1860cfe",
   "metadata": {},
   "source": [
    "### Submission"
   ]
  },
  {
   "cell_type": "markdown",
   "id": "72d205fb",
   "metadata": {},
   "source": [
    "Make sure to change x_train and x_test to be the proper sets"
   ]
  },
  {
   "cell_type": "raw",
   "id": "bf46cf38",
   "metadata": {},
   "source": [
    "xgb_model = xgb.XGBRegressor(objective=\"reg:squarederror\", random_state=88, eta=0.3, gamma=15, max_depth=5)\n",
    "xgb_model.fit(x_train, y_train)\n",
    "\n",
    "y_test_submission = true_test.copy()\n",
    "y_test_submission['TARGET'] = xgb_model.predict(x_test)\n",
    "\n",
    "y_test_submission['TARGET'].to_csv('andrew_qrt_submission.csv', index=False)"
   ]
  }
 ],
 "metadata": {
  "kernelspec": {
   "display_name": "Python 3 (ipykernel)",
   "language": "python",
   "name": "python3"
  },
  "language_info": {
   "codemirror_mode": {
    "name": "ipython",
    "version": 3
   },
   "file_extension": ".py",
   "mimetype": "text/x-python",
   "name": "python",
   "nbconvert_exporter": "python",
   "pygments_lexer": "ipython3",
   "version": "3.9.13"
  }
 },
 "nbformat": 4,
 "nbformat_minor": 5
}
